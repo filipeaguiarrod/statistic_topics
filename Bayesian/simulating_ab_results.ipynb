{
 "cells": [
  {
   "cell_type": "markdown",
   "id": "060a3bf5",
   "metadata": {},
   "source": [
    "# Biblioteca"
   ]
  },
  {
   "cell_type": "code",
   "execution_count": 2,
   "id": "c61a79fe",
   "metadata": {},
   "outputs": [],
   "source": [
    "import numpy as np\n",
    "import matplotlib.pyplot as plt\n",
    "import seaborn as sns\n",
    "import pandas as pd\n"
   ]
  },
  {
   "cell_type": "markdown",
   "id": "d9a46a52",
   "metadata": {},
   "source": [
    "# Distribuições"
   ]
  },
  {
   "cell_type": "code",
   "execution_count": 3,
   "id": "3bb0b159",
   "metadata": {},
   "outputs": [],
   "source": [
    "# Create two groups with binomial distribution\n",
    "np.random.seed(42)  # For reproducibility\n",
    "group_a = np.random.binomial(1, 0.3, 100000)  # Group A with 30% conversion\n",
    "group_b = np.random.binomial(1, 0.4, 100000)  # Group B with 40% conversion"
   ]
  },
  {
   "cell_type": "markdown",
   "id": "e4079a16",
   "metadata": {},
   "source": [
    "## Analisando a conversão real do grupo A e B\n",
    "\n",
    "Criamos duas populações, ambas com 100.000 usuários uma converte 30% e outra 40%"
   ]
  },
  {
   "cell_type": "code",
   "execution_count": 4,
   "id": "5d6a4e5c",
   "metadata": {},
   "outputs": [
    {
     "data": {
      "text/plain": [
       "(np.float64(0.29889), np.float64(0.40169))"
      ]
     },
     "execution_count": 4,
     "metadata": {},
     "output_type": "execute_result"
    }
   ],
   "source": [
    "group_a.mean(), group_b.mean()"
   ]
  }
 ],
 "metadata": {
  "kernelspec": {
   "display_name": "Python 3",
   "language": "python",
   "name": "python3"
  },
  "language_info": {
   "codemirror_mode": {
    "name": "ipython",
    "version": 3
   },
   "file_extension": ".py",
   "mimetype": "text/x-python",
   "name": "python",
   "nbconvert_exporter": "python",
   "pygments_lexer": "ipython3",
   "version": "3.10.9"
  }
 },
 "nbformat": 4,
 "nbformat_minor": 5
}
